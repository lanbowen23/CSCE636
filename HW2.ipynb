{
  "nbformat": 4,
  "nbformat_minor": 0,
  "metadata": {
    "colab": {
      "name": "HW2.ipynb",
      "version": "0.3.2",
      "provenance": [],
      "collapsed_sections": [],
      "include_colab_link": true
    },
    "kernelspec": {
      "name": "python3",
      "display_name": "Python 3"
    },
    "accelerator": "GPU"
  },
  "cells": [
    {
      "cell_type": "markdown",
      "metadata": {
        "id": "view-in-github",
        "colab_type": "text"
      },
      "source": [
        "<a href=\"https://colab.research.google.com/github/lanbowen23/CSCE636/blob/master/HW2.ipynb\" target=\"_parent\"><img src=\"https://colab.research.google.com/assets/colab-badge.svg\" alt=\"Open In Colab\"/></a>"
      ]
    },
    {
      "metadata": {
        "id": "2SeW9abfkV6L",
        "colab_type": "text"
      },
      "cell_type": "markdown",
      "source": [
        "## Movie Review classification using IMDB Dataset"
      ]
    },
    {
      "metadata": {
        "id": "QAhopNEdkIJN",
        "colab_type": "code",
        "colab": {}
      },
      "cell_type": "code",
      "source": [
        "from tensorflow.keras.datasets import imdb"
      ],
      "execution_count": 0,
      "outputs": []
    },
    {
      "metadata": {
        "id": "Jo4MrmP1oGvB",
        "colab_type": "text"
      },
      "cell_type": "markdown",
      "source": [
        "Load the dataset; one-hot encode the data and turn labels to arrays"
      ]
    },
    {
      "metadata": {
        "id": "YaYR-OE_nyPt",
        "colab_type": "code",
        "outputId": "3142f0c6-b2f9-4eb1-ca36-a7d08720829a",
        "colab": {
          "base_uri": "https://localhost:8080/",
          "height": 52
        }
      },
      "cell_type": "code",
      "source": [
        "(train_data, train_labels), (test_data, test_labels) = imdb.load_data(num_words=10000)"
      ],
      "execution_count": 0,
      "outputs": [
        {
          "output_type": "stream",
          "text": [
            "Downloading data from https://storage.googleapis.com/tensorflow/tf-keras-datasets/imdb.npz\n",
            "17465344/17464789 [==============================] - 0s 0us/step\n"
          ],
          "name": "stdout"
        }
      ]
    },
    {
      "metadata": {
        "id": "U3MYwId4oXvn",
        "colab_type": "code",
        "colab": {}
      },
      "cell_type": "code",
      "source": [
        "import numpy as np\n",
        "\n",
        "def vectorize_sequences(sequences, dimension=10000):\n",
        "  # need double parenthesis\n",
        "  result = np.zeros((len(sequences), dimension))\n",
        "  for i, sequence in enumerate(sequences):\n",
        "    result[i, sequence] = 1.\n",
        "  return result\n",
        "\n",
        "x_train = vectorize_sequences(train_data)\n",
        "x_test = vectorize_sequences(test_data)"
      ],
      "execution_count": 0,
      "outputs": []
    },
    {
      "metadata": {
        "id": "9TaVK58fpwJA",
        "colab_type": "code",
        "colab": {}
      },
      "cell_type": "code",
      "source": [
        "y_train = np.asarray(train_labels).astype('float32')\n",
        "y_test = np.asarray(test_labels).astype('float32')"
      ],
      "execution_count": 0,
      "outputs": []
    },
    {
      "metadata": {
        "id": "sncUnciRqBsa",
        "colab_type": "text"
      },
      "cell_type": "markdown",
      "source": [
        "Build the Network, Complie it with loss and strategy"
      ]
    },
    {
      "metadata": {
        "id": "TMhfyEuPqDmc",
        "colab_type": "code",
        "colab": {}
      },
      "cell_type": "code",
      "source": [
        "from tensorflow.keras import models\n",
        "from tensorflow.keras import layers\n",
        "\n",
        "model = models.Sequential()\n",
        "model.add(layers.Dense(16, activation='relu', input_shape=(10000,)))\n",
        "model.add(layers.Dense(16, activation='relu'))\n",
        "model.add(layers.Dense(1, activation='sigmoid'))\n",
        "\n",
        "model.compile(optimizer='rmsprop',\n",
        "              loss='binary_crossentropy',\n",
        "              metrics=['accuracy'])"
      ],
      "execution_count": 0,
      "outputs": []
    },
    {
      "metadata": {
        "id": "X34VbpuWr6lH",
        "colab_type": "text"
      },
      "cell_type": "markdown",
      "source": [
        "Partition the dataset into TRAIN and VAL set\n",
        "\n",
        "x represents data, y represents label"
      ]
    },
    {
      "metadata": {
        "id": "5aKO65n-r-8w",
        "colab_type": "code",
        "colab": {}
      },
      "cell_type": "code",
      "source": [
        "x_val = x_train[:10000]\n",
        "partial_x_train = x_train[10000:]\n",
        "\n",
        "y_val = y_train[:10000]\n",
        "partial_y_train = y_train[10000:]"
      ],
      "execution_count": 0,
      "outputs": []
    },
    {
      "metadata": {
        "id": "3a3g1vbrsYxN",
        "colab_type": "text"
      },
      "cell_type": "markdown",
      "source": [
        "Train the Neural Network"
      ]
    },
    {
      "metadata": {
        "id": "eWQvf07JscHS",
        "colab_type": "code",
        "outputId": "6008fccf-4545-4119-df60-07742bb4b43a",
        "colab": {
          "base_uri": "https://localhost:8080/",
          "height": 800
        }
      },
      "cell_type": "code",
      "source": [
        "history = model.fit(partial_x_train,\n",
        "                    partial_y_train,\n",
        "                    epochs = 20,\n",
        "                    batch_size = 512,\n",
        "                    validation_data = (x_val, y_val))"
      ],
      "execution_count": 0,
      "outputs": [
        {
          "output_type": "stream",
          "text": [
            "Train on 15000 samples, validate on 10000 samples\n",
            "WARNING:tensorflow:From /usr/local/lib/python3.6/dist-packages/tensorflow/python/ops/math_ops.py:3066: to_int32 (from tensorflow.python.ops.math_ops) is deprecated and will be removed in a future version.\n",
            "Instructions for updating:\n",
            "Use tf.cast instead.\n",
            "Epoch 1/20\n",
            "15000/15000 [==============================] - 3s 182us/sample - loss: 0.5060 - acc: 0.7801 - val_loss: 0.3799 - val_acc: 0.8636\n",
            "Epoch 2/20\n",
            "15000/15000 [==============================] - 2s 131us/sample - loss: 0.2985 - acc: 0.9039 - val_loss: 0.3024 - val_acc: 0.8865\n",
            "Epoch 3/20\n",
            "15000/15000 [==============================] - 2s 125us/sample - loss: 0.2207 - acc: 0.9259 - val_loss: 0.2774 - val_acc: 0.8899\n",
            "Epoch 4/20\n",
            "15000/15000 [==============================] - 2s 126us/sample - loss: 0.1754 - acc: 0.9427 - val_loss: 0.2767 - val_acc: 0.8881\n",
            "Epoch 5/20\n",
            "15000/15000 [==============================] - 2s 126us/sample - loss: 0.1415 - acc: 0.9541 - val_loss: 0.2809 - val_acc: 0.8858\n",
            "Epoch 6/20\n",
            "15000/15000 [==============================] - 2s 125us/sample - loss: 0.1178 - acc: 0.9641 - val_loss: 0.2930 - val_acc: 0.8849\n",
            "Epoch 7/20\n",
            "15000/15000 [==============================] - 2s 125us/sample - loss: 0.0998 - acc: 0.9691 - val_loss: 0.3131 - val_acc: 0.8817\n",
            "Epoch 8/20\n",
            "15000/15000 [==============================] - 2s 126us/sample - loss: 0.0808 - acc: 0.9782 - val_loss: 0.3300 - val_acc: 0.8800\n",
            "Epoch 9/20\n",
            "15000/15000 [==============================] - 2s 125us/sample - loss: 0.0678 - acc: 0.9825 - val_loss: 0.3569 - val_acc: 0.8783\n",
            "Epoch 10/20\n",
            "15000/15000 [==============================] - 2s 125us/sample - loss: 0.0567 - acc: 0.9852 - val_loss: 0.3768 - val_acc: 0.8759\n",
            "Epoch 11/20\n",
            "15000/15000 [==============================] - 2s 126us/sample - loss: 0.0458 - acc: 0.9886 - val_loss: 0.4396 - val_acc: 0.8676\n",
            "Epoch 12/20\n",
            "15000/15000 [==============================] - 2s 126us/sample - loss: 0.0369 - acc: 0.9927 - val_loss: 0.4309 - val_acc: 0.8735\n",
            "Epoch 13/20\n",
            "15000/15000 [==============================] - 2s 127us/sample - loss: 0.0319 - acc: 0.9932 - val_loss: 0.4567 - val_acc: 0.8736\n",
            "Epoch 14/20\n",
            "15000/15000 [==============================] - 2s 127us/sample - loss: 0.0237 - acc: 0.9958 - val_loss: 0.4848 - val_acc: 0.8720\n",
            "Epoch 15/20\n",
            "15000/15000 [==============================] - 2s 128us/sample - loss: 0.0213 - acc: 0.9970 - val_loss: 0.5131 - val_acc: 0.8712\n",
            "Epoch 16/20\n",
            "15000/15000 [==============================] - 2s 129us/sample - loss: 0.0169 - acc: 0.9971 - val_loss: 0.5459 - val_acc: 0.8677\n",
            "Epoch 17/20\n",
            "15000/15000 [==============================] - 2s 129us/sample - loss: 0.0107 - acc: 0.9995 - val_loss: 0.5865 - val_acc: 0.8647\n",
            "Epoch 18/20\n",
            "15000/15000 [==============================] - 2s 124us/sample - loss: 0.0147 - acc: 0.9972 - val_loss: 0.6143 - val_acc: 0.8649\n",
            "Epoch 19/20\n",
            "15000/15000 [==============================] - 2s 126us/sample - loss: 0.0062 - acc: 0.9998 - val_loss: 0.6681 - val_acc: 0.8623\n",
            "Epoch 20/20\n",
            "15000/15000 [==============================] - 2s 126us/sample - loss: 0.0070 - acc: 0.9995 - val_loss: 0.6714 - val_acc: 0.8643\n"
          ],
          "name": "stdout"
        }
      ]
    },
    {
      "metadata": {
        "id": "Fw8pkqPsso3o",
        "colab_type": "code",
        "outputId": "a08ae5e6-ad62-4b01-c5c9-17f334c58c78",
        "colab": {
          "base_uri": "https://localhost:8080/",
          "height": 35
        }
      },
      "cell_type": "code",
      "source": [
        "history_dict = history.history\n",
        "history_dict.keys()"
      ],
      "execution_count": 0,
      "outputs": [
        {
          "output_type": "execute_result",
          "data": {
            "text/plain": [
              "dict_keys(['loss', 'acc', 'val_loss', 'val_acc'])"
            ]
          },
          "metadata": {
            "tags": []
          },
          "execution_count": 41
        }
      ]
    },
    {
      "metadata": {
        "id": "lIycTUZztkmE",
        "colab_type": "code",
        "outputId": "ce2e5a8c-316e-4efd-ce2f-e6eaaabb4e44",
        "colab": {
          "base_uri": "https://localhost:8080/",
          "height": 377
        }
      },
      "cell_type": "code",
      "source": [
        "import matplotlib.pyplot as plt\n",
        "\n",
        "acc = history_dict['acc'] \n",
        "val_acc = history_dict['val_acc'] \n",
        "loss = history_dict['loss'] \n",
        "val_loss = history_dict['val_loss']\n",
        "\n",
        "epochs = range(1, len(acc) + 1) \n",
        "# \"bo\" is for \"blue dot\"\n",
        "plt.plot(epochs, loss, 'bo', label='Training loss') \n",
        "# b is for \"solid blue line\"\n",
        "plt.plot(epochs, val_loss, 'b', label='Validation loss') \n",
        "plt.title('Training and validation loss') \n",
        "plt.xlabel('Epochs') \n",
        "plt.ylabel('Loss') \n",
        "plt.legend()\n",
        "\n",
        "plt.show()"
      ],
      "execution_count": 0,
      "outputs": [
        {
          "output_type": "display_data",
          "data": {
            "image/png": "[encoded data removed]",
            "text/plain": [
              "<Figure size 576x396 with 1 Axes>"
            ]
          },
          "metadata": {
            "tags": []
          }
        }
      ]
    },
    {
      "metadata": {
        "id": "T34avaE1uEGO",
        "colab_type": "code",
        "outputId": "a68ece0f-8202-47bf-bd22-85a1b5bbe910",
        "colab": {
          "base_uri": "https://localhost:8080/",
          "height": 377
        }
      },
      "cell_type": "code",
      "source": [
        "plt.clf() # clear figure \n",
        "\n",
        "acc_values = history_dict['acc'] \n",
        "val_acc_values = history_dict['val_acc']\n",
        "plt.plot(epochs, acc, 'bo', label='Training acc') \n",
        "plt.plot(epochs, val_acc, 'b', label='Validation acc') \n",
        "plt.title('Training and validation accuracy') \n",
        "plt.xlabel('Epochs') \n",
        "plt.ylabel('Loss') \n",
        "plt.legend()\n",
        "\n",
        "plt.show()"
      ],
      "execution_count": 0,
      "outputs": [
        {
          "output_type": "display_data",
          "data": {
            "image/png": "[encoded data removed]",
            "text/plain": [
              "<Figure size 576x396 with 1 Axes>"
            ]
          },
          "metadata": {
            "tags": []
          }
        }
      ]
    },
    {
      "metadata": {
        "id": "mbalx541ubBX",
        "colab_type": "text"
      },
      "cell_type": "markdown",
      "source": [
        "Train a new network from scratch for 4\n",
        "epochs, using all the training data"
      ]
    },
    {
      "metadata": {
        "id": "JhbjzptuuVCs",
        "colab_type": "code",
        "outputId": "76b9a659-d8ad-4c4c-91d5-8c773c7fd059",
        "colab": {
          "base_uri": "https://localhost:8080/",
          "height": 173
        }
      },
      "cell_type": "code",
      "source": [
        "model.fit(x_train, y_train, epochs=4, batch_size=512)"
      ],
      "execution_count": 0,
      "outputs": [
        {
          "output_type": "stream",
          "text": [
            "Epoch 1/4\n",
            "25000/25000 [==============================] - 2s 98us/sample - loss: 0.2301 - acc: 0.9462\n",
            "Epoch 2/4\n",
            "25000/25000 [==============================] - 2s 92us/sample - loss: 0.1436 - acc: 0.9572\n",
            "Epoch 3/4\n",
            "25000/25000 [==============================] - 2s 90us/sample - loss: 0.1130 - acc: 0.9668\n",
            "Epoch 4/4\n",
            "25000/25000 [==============================] - 2s 89us/sample - loss: 0.0936 - acc: 0.9721\n"
          ],
          "name": "stdout"
        },
        {
          "output_type": "execute_result",
          "data": {
            "text/plain": [
              "<tensorflow.python.keras.callbacks.History at 0x7f6aeaea3940>"
            ]
          },
          "metadata": {
            "tags": []
          },
          "execution_count": 24
        }
      ]
    },
    {
      "metadata": {
        "id": "joU0ufPEunpE",
        "colab_type": "text"
      },
      "cell_type": "markdown",
      "source": [
        "Test the Trained neural network"
      ]
    },
    {
      "metadata": {
        "id": "GpaE9tKuusIx",
        "colab_type": "code",
        "outputId": "518fd81f-c8b8-41e2-89ae-f09116b1d43f",
        "colab": {
          "base_uri": "https://localhost:8080/",
          "height": 52
        }
      },
      "cell_type": "code",
      "source": [
        "model.evaluate(x_test, y_test)"
      ],
      "execution_count": 0,
      "outputs": [
        {
          "output_type": "stream",
          "text": [
            "25000/25000 [==============================] - 2s 83us/sample - loss: 0.4764 - acc: 0.8608\n"
          ],
          "name": "stdout"
        },
        {
          "output_type": "execute_result",
          "data": {
            "text/plain": [
              "[0.47642744681835175, 0.86084]"
            ]
          },
          "metadata": {
            "tags": []
          },
          "execution_count": 25
        }
      ]
    },
    {
      "metadata": {
        "id": "qeFvsTeWu1kF",
        "colab_type": "text"
      },
      "cell_type": "markdown",
      "source": [
        "Use the trained network for Prediction"
      ]
    },
    {
      "metadata": {
        "id": "LCYiRQbQu030",
        "colab_type": "code",
        "outputId": "22d6b98f-7dd9-4943-cc21-6d7fa29bd6d7",
        "colab": {
          "base_uri": "https://localhost:8080/",
          "height": 139
        }
      },
      "cell_type": "code",
      "source": [
        "model.predict(x_test)"
      ],
      "execution_count": 0,
      "outputs": [
        {
          "output_type": "execute_result",
          "data": {
            "text/plain": [
              "array([[0.00819767],\n",
              "       [0.9999733 ],\n",
              "       [0.90916395],\n",
              "       ...,\n",
              "       [0.05778548],\n",
              "       [0.07345688],\n",
              "       [0.811509  ]], dtype=float32)"
            ]
          },
          "metadata": {
            "tags": []
          },
          "execution_count": 26
        }
      ]
    },
    {
      "metadata": {
        "id": "qSsgC5upkXgy",
        "colab_type": "text"
      },
      "cell_type": "markdown",
      "source": [
        "## Multi-Classification\n",
        "\n",
        "## Topic classification using Reuters Dataset"
      ]
    },
    {
      "metadata": {
        "id": "quh5GDcikgpy",
        "colab_type": "code",
        "outputId": "01b4b73f-69a6-4675-fe72-db84c38850d3",
        "colab": {
          "base_uri": "https://localhost:8080/",
          "height": 52
        }
      },
      "cell_type": "code",
      "source": [
        "from tensorflow.keras.datasets import reuters\n",
        "\n",
        "(train_data, train_labels), (test_data, test_labels) = reuters.load_data(num_words=10000)"
      ],
      "execution_count": 1,
      "outputs": [
        {
          "output_type": "stream",
          "text": [
            "Downloading data from https://storage.googleapis.com/tensorflow/tf-keras-datasets/reuters.npz\n",
            "2113536/2110848 [==============================] - 0s 0us/step\n"
          ],
          "name": "stdout"
        }
      ]
    },
    {
      "metadata": {
        "id": "QlMbzVEpwZVa",
        "colab_type": "text"
      },
      "cell_type": "markdown",
      "source": [
        "Decode an newswire back to text"
      ]
    },
    {
      "metadata": {
        "id": "9Pn-E-JdvwDT",
        "colab_type": "code",
        "colab": {}
      },
      "cell_type": "code",
      "source": [
        "word_index = reuters.get_word_index()\n",
        "reverse_word_index = dict([(value, key) for (key, value) in word_index.items()]) \n",
        "# Note that our indices were offset by 3\n",
        "# because 0, 1 and 2 are reserved indices for \"padding\", \"start of sequence\", and \"unknown\". \n",
        "decoded_newswire = ' '.join([reverse_word_index.get(i - 3, '?') for i in train_data[0]])"
      ],
      "execution_count": 0,
      "outputs": []
    },
    {
      "metadata": {
        "id": "92npeC91wjmA",
        "colab_type": "code",
        "outputId": "5fb9b791-8a19-406b-973a-6c522e6594b8",
        "colab": {
          "base_uri": "https://localhost:8080/",
          "height": 55
        }
      },
      "cell_type": "code",
      "source": [
        "decoded_newswire"
      ],
      "execution_count": 0,
      "outputs": [
        {
          "output_type": "execute_result",
          "data": {
            "text/plain": [
              "'? ? ? said as a result of its december acquisition of space co it expects earnings per share in 1987 of 1 15 to 1 30 dlrs per share up from 70 cts in 1986 the company said pretax net should rise to nine to 10 mln dlrs from six mln dlrs in 1986 and rental operation revenues to 19 to 22 mln dlrs from 12 5 mln dlrs it said cash flow per share this year should be 2 50 to three dlrs reuter 3'"
            ]
          },
          "metadata": {
            "tags": []
          },
          "execution_count": 33
        }
      ]
    },
    {
      "metadata": {
        "id": "JVEfgInNwqaW",
        "colab_type": "text"
      },
      "cell_type": "markdown",
      "source": [
        "Prepare the Dataset"
      ]
    },
    {
      "metadata": {
        "id": "MWyx_8xEwyBx",
        "colab_type": "code",
        "colab": {}
      },
      "cell_type": "code",
      "source": [
        "import numpy as np\n",
        "def vectorize_sequences(sequences, dimension=10000): \n",
        "  results = np.zeros((len(sequences), dimension)) \n",
        "  for i, sequence in enumerate(sequences): \n",
        "    results[i, sequence] = 1. \n",
        "  return results\n",
        "\n",
        "x_train = vectorize_sequences(train_data)\n",
        "x_test = vectorize_sequences(test_data)"
      ],
      "execution_count": 0,
      "outputs": []
    },
    {
      "metadata": {
        "id": "8q1HKViDw8lw",
        "colab_type": "code",
        "colab": {}
      },
      "cell_type": "code",
      "source": [
        "def to_onehot(sequences, dimension=46):\n",
        "  results = np.zeros((len(sequences), dimension))\n",
        "  for i, sequence in enumerate(sequences):\n",
        "    results[i, sequence] = 1\n",
        "  return results\n",
        "\n",
        "y_train = to_onehot(train_labels)\n",
        "y_test = to_onehot(test_labels)"
      ],
      "execution_count": 0,
      "outputs": []
    },
    {
      "metadata": {
        "id": "-SY-WDzHQyX9",
        "colab_type": "text"
      },
      "cell_type": "markdown",
      "source": [
        "Built-In way to do this"
      ]
    },
    {
      "metadata": {
        "id": "y4E9HhtdQxme",
        "colab_type": "code",
        "colab": {
          "base_uri": "https://localhost:8080/",
          "height": 35
        },
        "outputId": "950021b2-5cb4-4ce7-b548-a07c4e21e285"
      },
      "cell_type": "code",
      "source": [
        "from keras.utils.np_utils import to_categorical\n",
        "\n",
        "one_hot_train_labels = to_categorical(train_labels)\n",
        "one_hot_test_labels = to_categorical(test_labels)"
      ],
      "execution_count": 11,
      "outputs": [
        {
          "output_type": "stream",
          "text": [
            "Using TensorFlow backend.\n"
          ],
          "name": "stderr"
        }
      ]
    },
    {
      "metadata": {
        "id": "jerabF4Hxx_V",
        "colab_type": "text"
      },
      "cell_type": "markdown",
      "source": [
        "Build and Compile the network"
      ]
    },
    {
      "metadata": {
        "id": "u_LY5dybxw8L",
        "colab_type": "code",
        "colab": {
          "base_uri": "https://localhost:8080/",
          "height": 89
        },
        "outputId": "7dc3fa64-dbfe-4f72-bb93-9ee2b1c2b47c"
      },
      "cell_type": "code",
      "source": [
        "from tensorflow.keras import models\n",
        "from tensorflow.keras import layers\n",
        "\n",
        "model = models.Sequential()\n",
        "model.add(layers.Dense(64, activation='relu', input_shape=(10000,)))\n",
        "model.add(layers.Dense(64, activation='relu'))\n",
        "# here change to softmax for multi-classification\n",
        "model.add(layers.Dense(46, activation='softmax'))\n",
        "\n",
        "model.compile(optimizer='rmsprop',\n",
        "              loss='categorical_crossentropy',\n",
        "              metrics=['accuracy'])"
      ],
      "execution_count": 4,
      "outputs": [
        {
          "output_type": "stream",
          "text": [
            "WARNING:tensorflow:From /usr/local/lib/python3.6/dist-packages/tensorflow/python/ops/resource_variable_ops.py:435: colocate_with (from tensorflow.python.framework.ops) is deprecated and will be removed in a future version.\n",
            "Instructions for updating:\n",
            "Colocations handled automatically by placer.\n"
          ],
          "name": "stdout"
        }
      ]
    },
    {
      "metadata": {
        "id": "_OZk3zeFyUX3",
        "colab_type": "text"
      },
      "cell_type": "markdown",
      "source": [
        "Seperate out the Validation set"
      ]
    },
    {
      "metadata": {
        "id": "vp-_X5eiyYhj",
        "colab_type": "code",
        "colab": {}
      },
      "cell_type": "code",
      "source": [
        "x_val = x_train[:1000]\n",
        "partial_x_train = x_train[1000:]\n",
        "\n",
        "y_val = y_train[:1000]\n",
        "partial_y_train = one_hot_train_labels[1000:]"
      ],
      "execution_count": 0,
      "outputs": []
    },
    {
      "metadata": {
        "id": "ClDgjBOXznqP",
        "colab_type": "text"
      },
      "cell_type": "markdown",
      "source": [
        "Train the Neural Network"
      ]
    },
    {
      "metadata": {
        "colab_type": "code",
        "outputId": "77dc3bfd-f436-4cec-f487-105ea4f0127a",
        "id": "q9UwtbIJy7qf",
        "colab": {
          "base_uri": "https://localhost:8080/",
          "height": 800
        }
      },
      "cell_type": "code",
      "source": [
        "history = model.fit(partial_x_train,\n",
        "                    partial_y_train,\n",
        "                    epochs = 20,\n",
        "                    batch_size = 512,\n",
        "                    validation_data = (x_val, y_val))"
      ],
      "execution_count": 6,
      "outputs": [
        {
          "output_type": "stream",
          "text": [
            "Train on 7982 samples, validate on 1000 samples\n",
            "WARNING:tensorflow:From /usr/local/lib/python3.6/dist-packages/tensorflow/python/ops/math_ops.py:3066: to_int32 (from tensorflow.python.ops.math_ops) is deprecated and will be removed in a future version.\n",
            "Instructions for updating:\n",
            "Use tf.cast instead.\n",
            "Epoch 1/20\n",
            "7982/7982 [==============================] - 2s 239us/sample - loss: 2.6704 - acc: 0.4697 - val_loss: 1.7757 - val_acc: 0.6340\n",
            "Epoch 2/20\n",
            "7982/7982 [==============================] - 1s 168us/sample - loss: 1.4786 - acc: 0.6987 - val_loss: 1.3361 - val_acc: 0.7240\n",
            "Epoch 3/20\n",
            "7982/7982 [==============================] - 1s 182us/sample - loss: 1.0883 - acc: 0.7742 - val_loss: 1.1563 - val_acc: 0.7530\n",
            "Epoch 4/20\n",
            "7982/7982 [==============================] - 1s 179us/sample - loss: 0.8467 - acc: 0.8250 - val_loss: 1.0653 - val_acc: 0.7700\n",
            "Epoch 5/20\n",
            "7982/7982 [==============================] - 1s 180us/sample - loss: 0.6711 - acc: 0.8601 - val_loss: 0.9834 - val_acc: 0.7950\n",
            "Epoch 6/20\n",
            "7982/7982 [==============================] - 1s 179us/sample - loss: 0.5317 - acc: 0.8918 - val_loss: 0.9445 - val_acc: 0.8160\n",
            "Epoch 7/20\n",
            "7982/7982 [==============================] - 1s 180us/sample - loss: 0.4306 - acc: 0.9109 - val_loss: 0.9156 - val_acc: 0.8150\n",
            "Epoch 8/20\n",
            "7982/7982 [==============================] - 1s 181us/sample - loss: 0.3518 - acc: 0.9253 - val_loss: 0.9262 - val_acc: 0.8020\n",
            "Epoch 9/20\n",
            "7982/7982 [==============================] - 1s 179us/sample - loss: 0.2894 - acc: 0.9352 - val_loss: 0.9401 - val_acc: 0.8050\n",
            "Epoch 10/20\n",
            "7982/7982 [==============================] - 1s 178us/sample - loss: 0.2444 - acc: 0.9437 - val_loss: 0.9144 - val_acc: 0.8150\n",
            "Epoch 11/20\n",
            "7982/7982 [==============================] - 1s 179us/sample - loss: 0.2159 - acc: 0.9475 - val_loss: 0.9125 - val_acc: 0.8160\n",
            "Epoch 12/20\n",
            "7982/7982 [==============================] - 1s 180us/sample - loss: 0.1836 - acc: 0.9528 - val_loss: 0.9547 - val_acc: 0.8120\n",
            "Epoch 13/20\n",
            "7982/7982 [==============================] - 1s 180us/sample - loss: 0.1663 - acc: 0.9548 - val_loss: 0.9606 - val_acc: 0.8110\n",
            "Epoch 14/20\n",
            "7982/7982 [==============================] - 1s 181us/sample - loss: 0.1521 - acc: 0.9548 - val_loss: 1.0017 - val_acc: 0.8130\n",
            "Epoch 15/20\n",
            "7982/7982 [==============================] - 1s 182us/sample - loss: 0.1433 - acc: 0.9557 - val_loss: 0.9916 - val_acc: 0.8100\n",
            "Epoch 16/20\n",
            "7982/7982 [==============================] - 1s 180us/sample - loss: 0.1334 - acc: 0.9551 - val_loss: 1.0539 - val_acc: 0.7960\n",
            "Epoch 17/20\n",
            "7982/7982 [==============================] - 1s 178us/sample - loss: 0.1268 - acc: 0.9559 - val_loss: 1.0929 - val_acc: 0.7970\n",
            "Epoch 18/20\n",
            "7982/7982 [==============================] - 1s 173us/sample - loss: 0.1246 - acc: 0.9578 - val_loss: 1.0855 - val_acc: 0.8030\n",
            "Epoch 19/20\n",
            "7982/7982 [==============================] - 1s 179us/sample - loss: 0.1158 - acc: 0.9573 - val_loss: 1.0712 - val_acc: 0.8030\n",
            "Epoch 20/20\n",
            "7982/7982 [==============================] - 1s 180us/sample - loss: 0.1143 - acc: 0.9585 - val_loss: 1.0850 - val_acc: 0.8110\n"
          ],
          "name": "stdout"
        }
      ]
    },
    {
      "metadata": {
        "id": "hMLXH9sBzrEX",
        "colab_type": "text"
      },
      "cell_type": "markdown",
      "source": [
        "Use Graphs to see If there is Overfitting"
      ]
    },
    {
      "metadata": {
        "id": "lctxHft0zKfr",
        "colab_type": "code",
        "colab": {}
      },
      "cell_type": "code",
      "source": [
        "history_dict = history.history"
      ],
      "execution_count": 0,
      "outputs": []
    },
    {
      "metadata": {
        "id": "DniyC7SYzOHz",
        "colab_type": "code",
        "outputId": "4d2defbf-879f-4ea9-db3f-8d79653a6f3d",
        "colab": {
          "base_uri": "https://localhost:8080/",
          "height": 377
        }
      },
      "cell_type": "code",
      "source": [
        "import matplotlib.pyplot as plt\n",
        "\n",
        "acc = history_dict['acc'] \n",
        "val_acc = history_dict['val_acc'] \n",
        "loss = history_dict['loss'] \n",
        "val_loss = history_dict['val_loss']\n",
        "\n",
        "epochs = range(1, len(acc) + 1) \n",
        "# \"bo\" is for \"blue dot\"\n",
        "plt.plot(epochs, loss, 'bo', label='Training loss') \n",
        "# b is for \"solid blue line\"\n",
        "plt.plot(epochs, val_loss, 'b', label='Validation loss') \n",
        "plt.title('Training and validation loss') \n",
        "plt.xlabel('Epochs') \n",
        "plt.ylabel('Loss') \n",
        "plt.legend()\n",
        "\n",
        "plt.show()"
      ],
      "execution_count": 8,
      "outputs": [
        {
          "output_type": "display_data",
          "data": {
            "image/png": "[encoded data removed]",
            "text/plain": [
              "<Figure size 576x396 with 1 Axes>"
            ]
          },
          "metadata": {
            "tags": []
          }
        }
      ]
    },
    {
      "metadata": {
        "id": "yiYsv2RozWcv",
        "colab_type": "code",
        "outputId": "3995a128-d219-4470-b32e-9f486d1bfdcb",
        "colab": {
          "base_uri": "https://localhost:8080/",
          "height": 377
        }
      },
      "cell_type": "code",
      "source": [
        "plt.clf() # clear figure \n",
        "\n",
        "acc_values = history_dict['acc'] \n",
        "val_acc_values = history_dict['val_acc']\n",
        "plt.plot(epochs, acc, 'bo', label='Training acc') \n",
        "plt.plot(epochs, val_acc, 'b', label='Validation acc') \n",
        "plt.title('Training and validation accuracy') \n",
        "plt.xlabel('Epochs') \n",
        "plt.ylabel('Loss') \n",
        "plt.legend()\n",
        "\n",
        "plt.show()"
      ],
      "execution_count": 9,
      "outputs": [
        {
          "output_type": "display_data",
          "data": {
            "image/png": "[encoded data removed]",
            "text/plain": [
              "<Figure size 576x396 with 1 Axes>"
            ]
          },
          "metadata": {
            "tags": []
          }
        }
      ]
    },
    {
      "metadata": {
        "id": "sXCcYv3rzvNH",
        "colab_type": "text"
      },
      "cell_type": "markdown",
      "source": [
        "Train the network using more reasonable Epochs"
      ]
    },
    {
      "metadata": {
        "id": "W_jo5W8_z0HY",
        "colab_type": "code",
        "outputId": "7d2ac538-5f10-40e4-8497-b029f415016a",
        "colab": {
          "base_uri": "https://localhost:8080/",
          "height": 364
        }
      },
      "cell_type": "code",
      "source": [
        "model.fit(partial_x_train, \n",
        "          partial_y_train, \n",
        "          epochs=9,\n",
        "          batch_size=512, \n",
        "          validation_data=(x_val, y_val)) \n",
        "results = model.evaluate(x_test, one_hot_test_labels)"
      ],
      "execution_count": 12,
      "outputs": [
        {
          "output_type": "stream",
          "text": [
            "Train on 7982 samples, validate on 1000 samples\n",
            "Epoch 1/9\n",
            "7982/7982 [==============================] - 1s 155us/sample - loss: 0.0970 - acc: 0.9572 - val_loss: 1.1816 - val_acc: 0.7920\n",
            "Epoch 2/9\n",
            "7982/7982 [==============================] - 1s 171us/sample - loss: 0.0949 - acc: 0.9574 - val_loss: 1.1900 - val_acc: 0.7920\n",
            "Epoch 3/9\n",
            "7982/7982 [==============================] - 1s 183us/sample - loss: 0.0943 - acc: 0.9595 - val_loss: 1.2474 - val_acc: 0.7930\n",
            "Epoch 4/9\n",
            "7982/7982 [==============================] - 1s 179us/sample - loss: 0.0934 - acc: 0.9590 - val_loss: 1.2328 - val_acc: 0.7860\n",
            "Epoch 5/9\n",
            "7982/7982 [==============================] - 1s 177us/sample - loss: 0.0922 - acc: 0.9593 - val_loss: 1.2770 - val_acc: 0.7850\n",
            "Epoch 6/9\n",
            "7982/7982 [==============================] - 1s 178us/sample - loss: 0.0907 - acc: 0.9595 - val_loss: 1.2648 - val_acc: 0.7930\n",
            "Epoch 7/9\n",
            "7982/7982 [==============================] - 1s 178us/sample - loss: 0.0921 - acc: 0.9575 - val_loss: 1.2307 - val_acc: 0.7980\n",
            "Epoch 8/9\n",
            "7982/7982 [==============================] - 1s 179us/sample - loss: 0.0863 - acc: 0.9592 - val_loss: 1.2942 - val_acc: 0.7870\n",
            "Epoch 9/9\n",
            "7982/7982 [==============================] - 1s 178us/sample - loss: 0.0900 - acc: 0.9570 - val_loss: 1.2890 - val_acc: 0.7880\n",
            "2246/2246 [==============================] - 0s 138us/sample - loss: 1.5183 - acc: 0.7694\n"
          ],
          "name": "stdout"
        }
      ]
    },
    {
      "metadata": {
        "id": "VXKt1hAK0CWE",
        "colab_type": "code",
        "colab": {
          "base_uri": "https://localhost:8080/",
          "height": 35
        },
        "outputId": "cfddd0eb-cc21-4ad9-e00f-c1e5f048b057"
      },
      "cell_type": "code",
      "source": [
        "results"
      ],
      "execution_count": 13,
      "outputs": [
        {
          "output_type": "execute_result",
          "data": {
            "text/plain": [
              "[1.5183477681976074, 0.76936775]"
            ]
          },
          "metadata": {
            "tags": []
          },
          "execution_count": 13
        }
      ]
    },
    {
      "metadata": {
        "id": "eX6gUGkXRSHt",
        "colab_type": "text"
      },
      "cell_type": "markdown",
      "source": [
        "Use trained model for Prediction"
      ]
    },
    {
      "metadata": {
        "id": "5YcWZ62bRfet",
        "colab_type": "code",
        "colab": {
          "base_uri": "https://localhost:8080/",
          "height": 69
        },
        "outputId": "0ddcf61e-9f89-4db2-c1bc-1bd7f98a6382"
      },
      "cell_type": "code",
      "source": [
        "predictions = model.predict(x_test)\n",
        "print(predictions[0].shape)\n",
        "print(np.sum(predictions[0]))\n",
        "print(np.argmax(predictions[0]))"
      ],
      "execution_count": 14,
      "outputs": [
        {
          "output_type": "stream",
          "text": [
            "(46,)\n",
            "1.0\n",
            "3\n"
          ],
          "name": "stdout"
        }
      ]
    },
    {
      "metadata": {
        "id": "kx_pOz3rkXXh",
        "colab_type": "text"
      },
      "cell_type": "markdown",
      "source": [
        "## Regression\n",
        "\n",
        "## Predicting House Prices using Boston Housing Price Dataset (which is a regression problem)"
      ]
    },
    {
      "metadata": {
        "id": "faHvgm5WSHEH",
        "colab_type": "text"
      },
      "cell_type": "markdown",
      "source": [
        "### Load the Dataset"
      ]
    },
    {
      "metadata": {
        "id": "ejwm4WTVSTIp",
        "colab_type": "code",
        "colab": {
          "base_uri": "https://localhost:8080/",
          "height": 69
        },
        "outputId": "8c2381ec-53ea-4575-abe0-45215145ffad"
      },
      "cell_type": "code",
      "source": [
        "from keras.datasets import boston_housing\n",
        "\n",
        "(train_data, train_targets), (test_data, test_targets) = boston_housing.load_data()"
      ],
      "execution_count": 1,
      "outputs": [
        {
          "output_type": "stream",
          "text": [
            "Using TensorFlow backend.\n"
          ],
          "name": "stderr"
        },
        {
          "output_type": "stream",
          "text": [
            "Downloading data from https://s3.amazonaws.com/keras-datasets/boston_housing.npz\n",
            "57344/57026 [==============================] - 0s 3us/step\n"
          ],
          "name": "stdout"
        }
      ]
    },
    {
      "metadata": {
        "id": "Qy1XgZYcSYVS",
        "colab_type": "code",
        "colab": {
          "base_uri": "https://localhost:8080/",
          "height": 35
        },
        "outputId": "bb4d07c4-a4bf-4ab9-fca5-76d95d50ca51"
      },
      "cell_type": "code",
      "source": [
        "test_targets.shape"
      ],
      "execution_count": 2,
      "outputs": [
        {
          "output_type": "execute_result",
          "data": {
            "text/plain": [
              "(102,)"
            ]
          },
          "metadata": {
            "tags": []
          },
          "execution_count": 2
        }
      ]
    },
    {
      "metadata": {
        "id": "Bcsq7JJBSkMA",
        "colab_type": "text"
      },
      "cell_type": "markdown",
      "source": [
        "### Prepare the Datasets"
      ]
    },
    {
      "metadata": {
        "id": "Qh4JwRfPSrEj",
        "colab_type": "code",
        "colab": {}
      },
      "cell_type": "code",
      "source": [
        "mean = train_data.mean(axis=0)\n",
        "train_data -= mean\n",
        "std = train_data.std(axis=0)\n",
        "train_data /= std\n",
        "test_data -= mean\n",
        "test_data /= std"
      ],
      "execution_count": 0,
      "outputs": []
    },
    {
      "metadata": {
        "id": "dmBNiCXCSueq",
        "colab_type": "text"
      },
      "cell_type": "markdown",
      "source": [
        "### Build the network"
      ]
    },
    {
      "metadata": {
        "id": "_7B2x2nnStt0",
        "colab_type": "code",
        "colab": {}
      },
      "cell_type": "code",
      "source": [
        "from keras import models\n",
        "from keras import layers\n",
        "def build_model():\n",
        "  # Because we will need to instantiate\n",
        "  # the same model multiple time,\n",
        "  # we use a function to construct it.\n",
        "  model = models.Sequential()\n",
        "  model.add(layers.Dense(64, activation='relu',\n",
        "  input_shape=(train_data.shape[1],)))\n",
        "  model.add(layers.Dense(64, activation='relu'))\n",
        "  model.add(layers.Dense(1))\n",
        "  model.compile(optimizer='rmsprop', loss='mse', metrics=['mae'])\n",
        "  return model"
      ],
      "execution_count": 0,
      "outputs": []
    },
    {
      "metadata": {
        "id": "ZGYx8GfBS5DV",
        "colab_type": "text"
      },
      "cell_type": "markdown",
      "source": [
        "K-fold Validation"
      ]
    },
    {
      "metadata": {
        "id": "r6Ur-enaS28t",
        "colab_type": "code",
        "colab": {
          "base_uri": "https://localhost:8080/",
          "height": 87
        },
        "outputId": "5f923277-c6b6-48f2-dc6e-460e66879279"
      },
      "cell_type": "code",
      "source": [
        "import numpy as np\n",
        "\n",
        "\n",
        "k = 4\n",
        "num_val_samples = len(train_data) // k\n",
        "num_epochs = 100\n",
        "all_scores = []\n",
        "\n",
        "for i in range(k):\n",
        "  print('processing fold #', i)\n",
        "  # Prepare the validation data: data from partition # k\n",
        "  val_data = train_data[i * num_val_samples: (i + 1) * num_val_samples]\n",
        "  val_targets = train_targets[i * num_val_samples: (i + 1) * num_val_samples]\n",
        "  # Prepare the training data: data from all other partitions\n",
        "  partial_train_data = np.concatenate(\n",
        "    [train_data[:i * num_val_samples],\n",
        "    train_data[(i + 1) * num_val_samples:]],\n",
        "    axis=0)\n",
        "  partial_train_targets = np.concatenate(\n",
        "    [train_targets[:i * num_val_samples],\n",
        "    train_targets[(i + 1) * num_val_samples:]],\n",
        "    axis=0)\n",
        "  # Build the Keras model (already compiled)\n",
        "  model = build_model()\n",
        "  # Train the model (in silent mode, verbose=0)\n",
        "  model.fit(partial_train_data, partial_train_targets,\n",
        "            epochs=num_epochs, batch_size=1, verbose=0)\n",
        "  # Evaluate the model on the validation data\n",
        "  val_mse, val_mae = model.evaluate(val_data, val_targets, verbose=0)\n",
        "  all_scores.append(val_mae)"
      ],
      "execution_count": 21,
      "outputs": [
        {
          "output_type": "stream",
          "text": [
            "processing fold # 0\n",
            "processing fold # 1\n",
            "processing fold # 2\n",
            "processing fold # 3\n"
          ],
          "name": "stdout"
        }
      ]
    },
    {
      "metadata": {
        "id": "GJ4LteOATIxh",
        "colab_type": "code",
        "colab": {
          "base_uri": "https://localhost:8080/",
          "height": 35
        },
        "outputId": "93c2af9a-fc38-43e1-a24e-7475ca93b2fb"
      },
      "cell_type": "code",
      "source": [
        "all_scores"
      ],
      "execution_count": 22,
      "outputs": [
        {
          "output_type": "execute_result",
          "data": {
            "text/plain": [
              "[1.993725864013823, 2.224157387667363, 2.935743745010678, 2.3145967249823087]"
            ]
          },
          "metadata": {
            "tags": []
          },
          "execution_count": 22
        }
      ]
    },
    {
      "metadata": {
        "id": "TEWqrLvETLWk",
        "colab_type": "code",
        "colab": {
          "base_uri": "https://localhost:8080/",
          "height": 35
        },
        "outputId": "1612f98e-ceb2-487c-9c45-6f83bfbdf1b4"
      },
      "cell_type": "code",
      "source": [
        "np.mean(all_scores)"
      ],
      "execution_count": 23,
      "outputs": [
        {
          "output_type": "execute_result",
          "data": {
            "text/plain": [
              "2.3670559304185432"
            ]
          },
          "metadata": {
            "tags": []
          },
          "execution_count": 23
        }
      ]
    },
    {
      "metadata": {
        "id": "wzn_6ONaUXjC",
        "colab_type": "text"
      },
      "cell_type": "markdown",
      "source": [
        "#### Let’s try training the network for a bit longer: 500 epochs. \n",
        "To keep a record of how\n",
        "well the model did at each epoch, we will modify our training loop to save the per-epoch\n",
        "validation score log"
      ]
    },
    {
      "metadata": {
        "id": "ESCAiLsUTNsB",
        "colab_type": "code",
        "colab": {
          "base_uri": "https://localhost:8080/",
          "height": 87
        },
        "outputId": "490a8d8b-32dc-4f08-8134-41a3dfdd4b5f"
      },
      "cell_type": "code",
      "source": [
        "import numpy as np\n",
        "\n",
        "k = 4\n",
        "num_val_samples = len(train_data) // k\n",
        "num_epochs = 500\n",
        "all_mae_histories = []\n",
        "\n",
        "\n",
        "for i in range(k):\n",
        "  print('processing fold #', i)\n",
        "  # Prepare the validation data: data from partition # k\n",
        "  val_data = train_data[i * num_val_samples: (i + 1) * num_val_samples]\n",
        "  val_targets = train_targets[i * num_val_samples: (i + 1) * num_val_samples]\n",
        "  # Prepare the training data: data from all other partitions\n",
        "  partial_train_data = np.concatenate(\n",
        "    [train_data[:i * num_val_samples],\n",
        "    train_data[(i + 1) * num_val_samples:]],\n",
        "    axis=0)\n",
        "  partial_train_targets = np.concatenate(\n",
        "    [train_targets[:i * num_val_samples],\n",
        "    train_targets[(i + 1) * num_val_samples:]],\n",
        "    axis=0)\n",
        "  # Build the Keras model (already compiled)\n",
        "  model = build_model()\n",
        "  # Train the model (in silent mode, verbose=0)\n",
        "  history = model.fit(partial_train_data, partial_train_targets,\n",
        "    validation_data=(val_data, val_targets),\n",
        "    epochs=num_epochs, batch_size=1, verbose=0)\n",
        "  mae_history = history.history['val_mean_absolute_error']\n",
        "  all_mae_histories.append(mae_history)"
      ],
      "execution_count": 8,
      "outputs": [
        {
          "output_type": "stream",
          "text": [
            "processing fold # 0\n",
            "processing fold # 1\n",
            "processing fold # 2\n",
            "processing fold # 3\n"
          ],
          "name": "stdout"
        }
      ]
    },
    {
      "metadata": {
        "id": "0ohJaEaQUzA0",
        "colab_type": "code",
        "colab": {}
      },
      "cell_type": "code",
      "source": [
        "average_mae_history = [\n",
        "  np.mean([x[i] for x in all_mae_histories]) for i in range(num_epochs)]"
      ],
      "execution_count": 0,
      "outputs": []
    },
    {
      "metadata": {
        "id": "jNyCK36WUzjx",
        "colab_type": "code",
        "colab": {
          "base_uri": "https://localhost:8080/",
          "height": 361
        },
        "outputId": "27db58c5-eeeb-403a-d97d-6e176d8dd59e"
      },
      "cell_type": "code",
      "source": [
        "import matplotlib.pyplot as plt\n",
        "plt.plot(range(1, len(average_mae_history) + 1), average_mae_history)\n",
        "plt.xlabel('Epochs')\n",
        "plt.ylabel('Validation MAE')\n",
        "plt.show()"
      ],
      "execution_count": 10,
      "outputs": [
        {
          "output_type": "display_data",
          "data": {
            "image/png": "[encoded data removed]",
            "text/plain": [
              "<Figure size 576x396 with 1 Axes>"
            ]
          },
          "metadata": {
            "tags": []
          }
        }
      ]
    },
    {
      "metadata": {
        "id": "eiyd-P09U-VD",
        "colab_type": "text"
      },
      "cell_type": "markdown",
      "source": [
        "#### hard to see the plot due to scaling issues and relatively high variance.\n",
        "- Omit the first 10 data points, which are on a different scale from the rest of the curve.\n",
        "- Replace each point with an exponential moving average of the previous points, to obtain\n",
        "a smooth curve."
      ]
    },
    {
      "metadata": {
        "id": "wW1AB9ECVj1e",
        "colab_type": "code",
        "colab": {
          "base_uri": "https://localhost:8080/",
          "height": 361
        },
        "outputId": "e09cd48a-4e0d-42c5-cf59-7cfd57a91a20"
      },
      "cell_type": "code",
      "source": [
        "def smooth_curve(points, factor=0.9):\n",
        "  smoothed_points = []\n",
        "  for point in points:\n",
        "    if smoothed_points:\n",
        "      previous = smoothed_points[-1]\n",
        "      smoothed_points.append(previous * factor + point * (1 - factor))\n",
        "    else:\n",
        "      smoothed_points.append(point)\n",
        "  return smoothed_points\n",
        "\n",
        "smooth_mae_history = smooth_curve(average_mae_history[10:])\n",
        "\n",
        "plt.plot(range(1, len(smooth_mae_history) + 1), smooth_mae_history)\n",
        "plt.xlabel('Epochs')\n",
        "plt.ylabel('Validation MAE')\n",
        "plt.show()"
      ],
      "execution_count": 11,
      "outputs": [
        {
          "output_type": "display_data",
          "data": {
            "image/png": "[encoded data removed]",
            "text/plain": [
              "<Figure size 576x396 with 1 Axes>"
            ]
          },
          "metadata": {
            "tags": []
          }
        }
      ]
    },
    {
      "metadata": {
        "id": "arESe6e6V9I-",
        "colab_type": "text"
      },
      "cell_type": "markdown",
      "source": [
        "### train the final model"
      ]
    },
    {
      "metadata": {
        "id": "9vHtmsjhV-pf",
        "colab_type": "code",
        "colab": {
          "base_uri": "https://localhost:8080/",
          "height": 35
        },
        "outputId": "2fe3e7ab-87ae-4e14-b9ee-d9452690910f"
      },
      "cell_type": "code",
      "source": [
        "# Get a fresh, compiled model.\n",
        "model = build_model()\n",
        "# Train it on the entirety of the data.\n",
        "model.fit(train_data, train_targets,\n",
        "          epochs=80, batch_size=16, verbose=0)\n",
        "test_mse_score, test_mae_score = model.evaluate(test_data, test_targets)"
      ],
      "execution_count": 12,
      "outputs": [
        {
          "output_type": "stream",
          "text": [
            "102/102 [==============================] - 0s 876us/step\n"
          ],
          "name": "stdout"
        }
      ]
    },
    {
      "metadata": {
        "id": "iMSOhiQwWCdq",
        "colab_type": "code",
        "colab": {
          "base_uri": "https://localhost:8080/",
          "height": 35
        },
        "outputId": "55cc9ee0-4582-417e-8aee-d5a991894922"
      },
      "cell_type": "code",
      "source": [
        "test_mae_score"
      ],
      "execution_count": 13,
      "outputs": [
        {
          "output_type": "execute_result",
          "data": {
            "text/plain": [
              "2.675912473715988"
            ]
          },
          "metadata": {
            "tags": []
          },
          "execution_count": 13
        }
      ]
    },
    {
      "metadata": {
        "id": "lk0l553lWD3Z",
        "colab_type": "code",
        "colab": {}
      },
      "cell_type": "code",
      "source": [
        ""
      ],
      "execution_count": 0,
      "outputs": []
    }
  ]
}