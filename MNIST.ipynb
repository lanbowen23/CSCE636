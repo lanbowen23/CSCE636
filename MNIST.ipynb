{
  "nbformat": 4,
  "nbformat_minor": 0,
  "metadata": {
    "colab": {
      "name": "MNIST",
      "version": "0.3.2",
      "provenance": [],
      "collapsed_sections": [],
      "include_colab_link": true
    },
    "kernelspec": {
      "name": "python3",
      "display_name": "Python 3"
    }
  },
  "cells": [
    {
      "cell_type": "markdown",
      "metadata": {
        "id": "view-in-github",
        "colab_type": "text"
      },
      "source": [
        "<a href=\"https://colab.research.google.com/github/lanbowen23/CSCE636/blob/master/MNIST.ipynb\" target=\"_parent\"><img src=\"https://colab.research.google.com/assets/colab-badge.svg\" alt=\"Open In Colab\"/></a>"
      ]
    },
    {
      "metadata": {
        "id": "I4VBhrlTump0",
        "colab_type": "text"
      },
      "cell_type": "markdown",
      "source": [
        "Build Neural Network Architecture"
      ]
    },
    {
      "metadata": {
        "id": "qKpbwxV9qjyB",
        "colab_type": "code",
        "colab": {}
      },
      "cell_type": "code",
      "source": [
        "from tensorflow.keras import models\n",
        "from tensorflow.keras import layers\n",
        "\n",
        "network = models.Sequential()\n",
        "network.add(layers.Dense(512, activation='relu', input_shape=(28*28,)))\n",
        "network.add(layers.Dense(10,activation='softmax'))"
      ],
      "execution_count": 0,
      "outputs": []
    },
    {
      "metadata": {
        "id": "GRg3rJy-ur2C",
        "colab_type": "text"
      },
      "cell_type": "markdown",
      "source": [
        "choose loss function, optimizer, and target metrics"
      ]
    },
    {
      "metadata": {
        "id": "80KfImDwsZjc",
        "colab_type": "code",
        "colab": {}
      },
      "cell_type": "code",
      "source": [
        "network.compile(optimizer='rmsprop',\n",
        "                loss='categorical_crossentropy',\n",
        "                metrics=['accuracy'])"
      ],
      "execution_count": 0,
      "outputs": []
    },
    {
      "metadata": {
        "id": "W_FlTHzZxBTH",
        "colab_type": "text"
      },
      "cell_type": "markdown",
      "source": [
        "Load the Dataset"
      ]
    },
    {
      "metadata": {
        "id": "tnunVdwYp7_O",
        "colab_type": "code",
        "outputId": "843459a5-8f97-4552-ce92-806a71e10bd9",
        "colab": {
          "base_uri": "https://localhost:8080/",
          "height": 69
        }
      },
      "cell_type": "code",
      "source": [
        "from tensorflow.keras.datasets import mnist\n",
        "\n",
        "(train_images, train_labels), (test_images, test_labels) = mnist.load_data()\n",
        "print(train_images.shape, test_labels.shape)"
      ],
      "execution_count": 0,
      "outputs": [
        {
          "output_type": "stream",
          "text": [
            "Downloading data from https://storage.googleapis.com/tensorflow/tf-keras-datasets/mnist.npz\n",
            "11493376/11490434 [==============================] - 0s 0us/step\n",
            "(60000, 28, 28) (10000,)\n"
          ],
          "name": "stdout"
        }
      ]
    },
    {
      "metadata": {
        "id": "R579NRumvFm4",
        "colab_type": "text"
      },
      "cell_type": "markdown",
      "source": [
        "Prepare training and test data Here: Reshape and normalize input training data"
      ]
    },
    {
      "metadata": {
        "id": "gFHTrqj8u_XA",
        "colab_type": "code",
        "colab": {}
      },
      "cell_type": "code",
      "source": [
        "train_images = train_images.reshape(60000, 28*28)\n",
        "train_images = train_images.astype('float32')/255\n",
        "\n",
        "test_images = test_images.reshape(10000, 28*28)\n",
        "test_images = test_images.astype('float32')/255"
      ],
      "execution_count": 0,
      "outputs": []
    },
    {
      "metadata": {
        "id": "rYKHAtWyvepB",
        "colab_type": "text"
      },
      "cell_type": "markdown",
      "source": [
        "“Reshape” output training data: categorically encode each label using one-hot encoding"
      ]
    },
    {
      "metadata": {
        "id": "sBYw1lkPvjfL",
        "colab_type": "code",
        "colab": {}
      },
      "cell_type": "code",
      "source": [
        "from tensorflow.keras.utils import to_categorical\n",
        "\n",
        "train_labels = to_categorical(train_labels)\n",
        "test_labels = to_categorical(test_labels)"
      ],
      "execution_count": 0,
      "outputs": []
    },
    {
      "metadata": {
        "id": "n8S2l5axv2Y1",
        "colab_type": "text"
      },
      "cell_type": "markdown",
      "source": [
        "Train"
      ]
    },
    {
      "metadata": {
        "id": "GPj4LxMkv4pg",
        "colab_type": "code",
        "outputId": "4c8b4ed7-90e7-483e-9578-e1f0f6fe93d3",
        "colab": {
          "base_uri": "https://localhost:8080/",
          "height": 208
        }
      },
      "cell_type": "code",
      "source": [
        "network.fit(train_images, train_labels, epochs=5, batch_size=128)"
      ],
      "execution_count": 0,
      "outputs": [
        {
          "output_type": "stream",
          "text": [
            "Epoch 1/5\n",
            "60000/60000 [==============================] - 5s 89us/step - loss: 0.2553 - acc: 0.9260\n",
            "Epoch 2/5\n",
            "60000/60000 [==============================] - 5s 81us/step - loss: 0.1027 - acc: 0.9696\n",
            "Epoch 3/5\n",
            "60000/60000 [==============================] - 5s 82us/step - loss: 0.0678 - acc: 0.9801\n",
            "Epoch 4/5\n",
            "60000/60000 [==============================] - 5s 82us/step - loss: 0.0498 - acc: 0.9850\n",
            "Epoch 5/5\n",
            "60000/60000 [==============================] - 5s 79us/step - loss: 0.0370 - acc: 0.9892\n"
          ],
          "name": "stdout"
        },
        {
          "output_type": "execute_result",
          "data": {
            "text/plain": [
              "<tensorflow.python.keras.callbacks.History at 0x7f8b824bbfd0>"
            ]
          },
          "metadata": {
            "tags": []
          },
          "execution_count": 6
        }
      ]
    },
    {
      "metadata": {
        "id": "lzh9zlPbxGH5",
        "colab_type": "text"
      },
      "cell_type": "markdown",
      "source": [
        "Test or Evaluate"
      ]
    },
    {
      "metadata": {
        "id": "eF-Df2dzwPEW",
        "colab_type": "code",
        "outputId": "181676cc-7ae7-493a-901e-c0e2f4472307",
        "colab": {
          "base_uri": "https://localhost:8080/",
          "height": 69
        }
      },
      "cell_type": "code",
      "source": [
        "test_loss, test_acc = network.evaluate(test_images, test_labels)\n",
        "print('test_loss:', test_loss)\n",
        "print('test_acc:', test_acc)"
      ],
      "execution_count": 0,
      "outputs": [
        {
          "output_type": "stream",
          "text": [
            "10000/10000 [==============================] - 1s 50us/step\n",
            "test_loss: 0.07819028155499837\n",
            "test_acc: 0.9763\n"
          ],
          "name": "stdout"
        }
      ]
    }
  ]
}